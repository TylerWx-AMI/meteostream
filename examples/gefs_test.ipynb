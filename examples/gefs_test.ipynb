{
 "cells": [
  {
   "cell_type": "code",
   "execution_count": 20,
   "metadata": {},
   "outputs": [],
   "source": [
    "from meteostream import GefsClient"
   ]
  },
  {
   "cell_type": "code",
   "execution_count": 21,
   "metadata": {},
   "outputs": [],
   "source": [
    "client = GefsClient()"
   ]
  },
  {
   "cell_type": "code",
   "execution_count": 22,
   "metadata": {},
   "outputs": [
    {
     "name": "stdout",
     "output_type": "stream",
     "text": [
      "Downloading gefs.wave.t12z.prob.global.0p25.f000.grib2...\n",
      "Downloaded gefs.wave.t12z.prob.global.0p25.f000.grib2 to tmp/grib/\n",
      "Downloading gefs.wave.t12z.prob.global.0p25.f006.grib2...\n",
      "Downloaded gefs.wave.t12z.prob.global.0p25.f006.grib2 to tmp/grib/\n",
      "Downloading gefs.wave.t12z.prob.global.0p25.f012.grib2...\n",
      "Downloaded gefs.wave.t12z.prob.global.0p25.f012.grib2 to tmp/grib/\n",
      "Downloading gefs.wave.t12z.prob.global.0p25.f018.grib2...\n",
      "Downloaded gefs.wave.t12z.prob.global.0p25.f018.grib2 to tmp/grib/\n",
      "Downloading gefs.wave.t12z.prob.global.0p25.f024.grib2...\n",
      "Downloaded gefs.wave.t12z.prob.global.0p25.f024.grib2 to tmp/grib/\n",
      "Downloading gefs.wave.t12z.prob.global.0p25.f030.grib2...\n",
      "Downloaded gefs.wave.t12z.prob.global.0p25.f030.grib2 to tmp/grib/\n",
      "Downloading gefs.wave.t12z.prob.global.0p25.f036.grib2...\n",
      "Downloaded gefs.wave.t12z.prob.global.0p25.f036.grib2 to tmp/grib/\n",
      "Downloading gefs.wave.t12z.prob.global.0p25.f042.grib2...\n",
      "Downloaded gefs.wave.t12z.prob.global.0p25.f042.grib2 to tmp/grib/\n",
      "Downloading gefs.wave.t12z.prob.global.0p25.f048.grib2...\n",
      "Downloaded gefs.wave.t12z.prob.global.0p25.f048.grib2 to tmp/grib/\n",
      "Downloading gefs.wave.t12z.prob.global.0p25.f054.grib2...\n",
      "Downloaded gefs.wave.t12z.prob.global.0p25.f054.grib2 to tmp/grib/\n",
      "Downloading gefs.wave.t12z.prob.global.0p25.f060.grib2...\n",
      "Downloaded gefs.wave.t12z.prob.global.0p25.f060.grib2 to tmp/grib/\n",
      "Downloading gefs.wave.t12z.prob.global.0p25.f066.grib2...\n",
      "Downloaded gefs.wave.t12z.prob.global.0p25.f066.grib2 to tmp/grib/\n",
      "Downloading gefs.wave.t12z.prob.global.0p25.f072.grib2...\n",
      "Downloaded gefs.wave.t12z.prob.global.0p25.f072.grib2 to tmp/grib/\n",
      "Downloading gefs.wave.t12z.prob.global.0p25.f078.grib2...\n",
      "Downloaded gefs.wave.t12z.prob.global.0p25.f078.grib2 to tmp/grib/\n",
      "Downloading gefs.wave.t12z.prob.global.0p25.f084.grib2...\n",
      "Downloaded gefs.wave.t12z.prob.global.0p25.f084.grib2 to tmp/grib/\n",
      "Downloading gefs.wave.t12z.prob.global.0p25.f090.grib2...\n",
      "Downloaded gefs.wave.t12z.prob.global.0p25.f090.grib2 to tmp/grib/\n",
      "Downloading gefs.wave.t12z.prob.global.0p25.f096.grib2...\n",
      "Downloaded gefs.wave.t12z.prob.global.0p25.f096.grib2 to tmp/grib/\n",
      "Downloading gefs.wave.t12z.prob.global.0p25.f102.grib2...\n",
      "Downloaded gefs.wave.t12z.prob.global.0p25.f102.grib2 to tmp/grib/\n",
      "Downloading gefs.wave.t12z.prob.global.0p25.f108.grib2...\n",
      "Downloaded gefs.wave.t12z.prob.global.0p25.f108.grib2 to tmp/grib/\n",
      "Downloading gefs.wave.t12z.prob.global.0p25.f114.grib2...\n",
      "Downloaded gefs.wave.t12z.prob.global.0p25.f114.grib2 to tmp/grib/\n",
      "Downloading gefs.wave.t12z.prob.global.0p25.f120.grib2...\n",
      "Downloaded gefs.wave.t12z.prob.global.0p25.f120.grib2 to tmp/grib/\n",
      "Downloading gefs.wave.t12z.prob.global.0p25.f126.grib2...\n",
      "Downloaded gefs.wave.t12z.prob.global.0p25.f126.grib2 to tmp/grib/\n",
      "Downloading gefs.wave.t12z.prob.global.0p25.f132.grib2...\n",
      "Downloaded gefs.wave.t12z.prob.global.0p25.f132.grib2 to tmp/grib/\n",
      "Downloading gefs.wave.t12z.prob.global.0p25.f138.grib2...\n",
      "Downloaded gefs.wave.t12z.prob.global.0p25.f138.grib2 to tmp/grib/\n",
      "Downloading gefs.wave.t12z.prob.global.0p25.f144.grib2...\n",
      "Downloaded gefs.wave.t12z.prob.global.0p25.f144.grib2 to tmp/grib/\n",
      "Downloading gefs.wave.t12z.prob.global.0p25.f150.grib2...\n",
      "Downloaded gefs.wave.t12z.prob.global.0p25.f150.grib2 to tmp/grib/\n",
      "Downloading gefs.wave.t12z.prob.global.0p25.f156.grib2...\n",
      "Downloaded gefs.wave.t12z.prob.global.0p25.f156.grib2 to tmp/grib/\n",
      "Downloading gefs.wave.t12z.prob.global.0p25.f162.grib2...\n",
      "Downloaded gefs.wave.t12z.prob.global.0p25.f162.grib2 to tmp/grib/\n",
      "Downloading gefs.wave.t12z.prob.global.0p25.f168.grib2...\n",
      "Downloaded gefs.wave.t12z.prob.global.0p25.f168.grib2 to tmp/grib/\n",
      "Downloading gefs.wave.t12z.prob.global.0p25.f174.grib2...\n",
      "Downloaded gefs.wave.t12z.prob.global.0p25.f174.grib2 to tmp/grib/\n",
      "Downloading gefs.wave.t12z.prob.global.0p25.f180.grib2...\n",
      "Downloaded gefs.wave.t12z.prob.global.0p25.f180.grib2 to tmp/grib/\n",
      "Downloading gefs.wave.t12z.prob.global.0p25.f186.grib2...\n",
      "Downloaded gefs.wave.t12z.prob.global.0p25.f186.grib2 to tmp/grib/\n",
      "Downloading gefs.wave.t12z.prob.global.0p25.f192.grib2...\n",
      "Downloaded gefs.wave.t12z.prob.global.0p25.f192.grib2 to tmp/grib/\n",
      "Downloading gefs.wave.t12z.prob.global.0p25.f198.grib2...\n",
      "Downloaded gefs.wave.t12z.prob.global.0p25.f198.grib2 to tmp/grib/\n",
      "Downloading gefs.wave.t12z.prob.global.0p25.f204.grib2...\n",
      "Downloaded gefs.wave.t12z.prob.global.0p25.f204.grib2 to tmp/grib/\n",
      "Downloading gefs.wave.t12z.prob.global.0p25.f210.grib2...\n",
      "Downloaded gefs.wave.t12z.prob.global.0p25.f210.grib2 to tmp/grib/\n",
      "Downloading gefs.wave.t12z.prob.global.0p25.f216.grib2...\n",
      "Downloaded gefs.wave.t12z.prob.global.0p25.f216.grib2 to tmp/grib/\n",
      "Downloading gefs.wave.t12z.prob.global.0p25.f222.grib2...\n",
      "Downloaded gefs.wave.t12z.prob.global.0p25.f222.grib2 to tmp/grib/\n",
      "Downloading gefs.wave.t12z.prob.global.0p25.f228.grib2...\n",
      "Downloaded gefs.wave.t12z.prob.global.0p25.f228.grib2 to tmp/grib/\n",
      "Downloading gefs.wave.t12z.prob.global.0p25.f234.grib2...\n",
      "Downloaded gefs.wave.t12z.prob.global.0p25.f234.grib2 to tmp/grib/\n",
      "Downloading gefs.wave.t12z.prob.global.0p25.f240.grib2...\n",
      "Downloaded gefs.wave.t12z.prob.global.0p25.f240.grib2 to tmp/grib/\n"
     ]
    },
    {
     "ename": "NotADirectoryError",
     "evalue": "[Errno 20] Not a directory: 'tmp/grib/gefs.wave.t12z.prob.global.0p25.f240.grib2'",
     "output_type": "error",
     "traceback": [
      "\u001b[0;31m---------------------------------------------------------------------------\u001b[0m",
      "\u001b[0;31mNotADirectoryError\u001b[0m                        Traceback (most recent call last)",
      "Cell \u001b[0;32mIn[22], line 1\u001b[0m\n\u001b[0;32m----> 1\u001b[0m ds \u001b[38;5;241m=\u001b[39m \u001b[43mclient\u001b[49m\u001b[38;5;241;43m.\u001b[39;49m\u001b[43mget_gefs_data\u001b[49m\u001b[43m(\u001b[49m\u001b[43m)\u001b[49m\n",
      "File \u001b[0;32m~/meteostream/src/meteostream/gefs.py:48\u001b[0m, in \u001b[0;36mGefsClient.get_gefs_data\u001b[0;34m(self, nc_filepath)\u001b[0m\n\u001b[1;32m     45\u001b[0m proc_grib_dir \u001b[38;5;241m=\u001b[39m \u001b[38;5;28mself\u001b[39m\u001b[38;5;241m.\u001b[39mproc_grib_dir \u001b[38;5;28;01mif\u001b[39;00m \u001b[38;5;28mself\u001b[39m\u001b[38;5;241m.\u001b[39mproc_grib_dir \u001b[38;5;28;01melse\u001b[39;00m \u001b[38;5;124m\"\u001b[39m\u001b[38;5;124mselected_grib\u001b[39m\u001b[38;5;124m\"\u001b[39m\n\u001b[1;32m     47\u001b[0m \u001b[38;5;66;03m# Extract the probabilty variables as new gribs to the proc_dir\u001b[39;00m\n\u001b[0;32m---> 48\u001b[0m \u001b[43m_extract_vars\u001b[49m\u001b[43m(\u001b[49m\u001b[43minput_dir\u001b[49m\u001b[38;5;241;43m=\u001b[39;49m\u001b[43mgrib_raw\u001b[49m\u001b[43m,\u001b[49m\u001b[43m \u001b[49m\u001b[43moutput_dir\u001b[49m\u001b[38;5;241;43m=\u001b[39;49m\u001b[43mproc_grib_dir\u001b[49m\u001b[43m)\u001b[49m\n\u001b[1;32m     50\u001b[0m \u001b[38;5;66;03m# Handle nc path kwarg. If None, then return the xr.Dataset\u001b[39;00m\n\u001b[1;32m     51\u001b[0m \u001b[38;5;28;01mif\u001b[39;00m nc_filepath:\n",
      "File \u001b[0;32m~/meteostream/src/meteostream/gefs.py:197\u001b[0m, in \u001b[0;36m_extract_vars\u001b[0;34m(input_dir, output_dir)\u001b[0m\n\u001b[1;32m    194\u001b[0m idx_list \u001b[38;5;241m=\u001b[39m [\u001b[38;5;241m5\u001b[39m, \u001b[38;5;241m6\u001b[39m, \u001b[38;5;241m7\u001b[39m, \u001b[38;5;241m8\u001b[39m, \u001b[38;5;241m38\u001b[39m, \u001b[38;5;241m39\u001b[39m, \u001b[38;5;241m40\u001b[39m]\n\u001b[1;32m    196\u001b[0m \u001b[38;5;66;03m# Loop through all GRIB files in the directory\u001b[39;00m\n\u001b[0;32m--> 197\u001b[0m \u001b[38;5;28;01mfor\u001b[39;00m filename \u001b[38;5;129;01min\u001b[39;00m \u001b[38;5;28msorted\u001b[39m(\u001b[43mos\u001b[49m\u001b[38;5;241;43m.\u001b[39;49m\u001b[43mlistdir\u001b[49m\u001b[43m(\u001b[49m\u001b[43minput_dir\u001b[49m\u001b[43m)\u001b[49m):\n\u001b[1;32m    198\u001b[0m     \u001b[38;5;28;01mif\u001b[39;00m filename\u001b[38;5;241m.\u001b[39mendswith(\u001b[38;5;124m'\u001b[39m\u001b[38;5;124m.grib2\u001b[39m\u001b[38;5;124m'\u001b[39m):\n\u001b[1;32m    199\u001b[0m         input_filepath \u001b[38;5;241m=\u001b[39m os\u001b[38;5;241m.\u001b[39mpath\u001b[38;5;241m.\u001b[39mjoin(input_dir, filename)\n",
      "\u001b[0;31mNotADirectoryError\u001b[0m: [Errno 20] Not a directory: 'tmp/grib/gefs.wave.t12z.prob.global.0p25.f240.grib2'"
     ]
    }
   ],
   "source": [
    "ds = client.get_gefs_data()"
   ]
  },
  {
   "cell_type": "code",
   "execution_count": null,
   "metadata": {},
   "outputs": [],
   "source": []
  }
 ],
 "metadata": {
  "kernelspec": {
   "display_name": ".venv",
   "language": "python",
   "name": "python3"
  },
  "language_info": {
   "codemirror_mode": {
    "name": "ipython",
    "version": 3
   },
   "file_extension": ".py",
   "mimetype": "text/x-python",
   "name": "python",
   "nbconvert_exporter": "python",
   "pygments_lexer": "ipython3",
   "version": "3.11.7"
  }
 },
 "nbformat": 4,
 "nbformat_minor": 2
}
