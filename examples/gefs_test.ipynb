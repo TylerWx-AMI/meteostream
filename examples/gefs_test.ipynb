{
 "cells": [
  {
   "cell_type": "code",
   "execution_count": 25,
   "metadata": {},
   "outputs": [],
   "source": [
    "import requests\n",
    "import pygrib\n",
    "from bs4 import BeautifulSoup "
   ]
  },
  {
   "cell_type": "code",
   "execution_count": 19,
   "metadata": {},
   "outputs": [
    {
     "name": "stdout",
     "output_type": "stream",
     "text": [
      "Run time: 12\n",
      "Run date: 20250202\n"
     ]
    }
   ],
   "source": [
    "# Set datetime logic \n",
    "from datetime import datetime, timezone, timedelta\n",
    "\n",
    "current_time = datetime.now(tz=timezone.utc)\n",
    "current_hour = current_time.hour\n",
    "\n",
    "# Determine the most recent run time based on the current hour\n",
    "if 0 <= current_hour < 4:\n",
    "    run_time = \"18\"\n",
    "elif 4 <= current_hour < 10:\n",
    "    run_time = \"00\"\n",
    "elif 10 <= current_hour < 16:\n",
    "    run_time = \"06\"\n",
    "else:\n",
    "    run_time = \"12\"\n",
    "\n",
    "# Determine the date for the selected run\n",
    "if run_time == \"18\" and current_hour < 4:\n",
    "    run_date = (current_time - timedelta(days=1)).strftime(\"%Y%m%d\")\n",
    "else:\n",
    "    run_date = current_time.strftime(\"%Y%m%d\")\n",
    "\n",
    "# Forecast hours\n",
    "forecast_hours = [f\"{i:03d}\" for i in range(0, 241, 6)]\n",
    "\n",
    "# Output the results\n",
    "print(f\"Run time: {run_time}\")\n",
    "print(f\"Run date: {run_date}\")"
   ]
  },
  {
   "cell_type": "code",
   "execution_count": 27,
   "metadata": {},
   "outputs": [],
   "source": [
    "base_url = f\"https://nomads.ncep.noaa.gov/pub/data/nccf/com/gens/prod/gefs.{run_date}/{run_time}/wave/gridded/\"\n",
    "file_urls = [f\"gefs.wave.t{run_time}z.prob.global.0p25.f{hour}.grib2\" for hour in forecast_hours]"
   ]
  },
  {
   "cell_type": "code",
   "execution_count": 29,
   "metadata": {},
   "outputs": [],
   "source": [
    "response = requests.get(base_url)\n",
    "response.raise_for_status()"
   ]
  },
  {
   "cell_type": "code",
   "execution_count": 32,
   "metadata": {},
   "outputs": [],
   "source": [
    "target_urls = [f\"{base_url}{url}\" for url in file_urls]"
   ]
  },
  {
   "cell_type": "code",
   "execution_count": 33,
   "metadata": {},
   "outputs": [
    {
     "name": "stdout",
     "output_type": "stream",
     "text": [
      "Downloaded: gefs.wave.t12z.prob.global.0p25.f000.grib2\n",
      "Downloaded: gefs.wave.t12z.prob.global.0p25.f006.grib2\n",
      "Downloaded: gefs.wave.t12z.prob.global.0p25.f012.grib2\n",
      "Downloaded: gefs.wave.t12z.prob.global.0p25.f018.grib2\n",
      "Downloaded: gefs.wave.t12z.prob.global.0p25.f024.grib2\n",
      "Downloaded: gefs.wave.t12z.prob.global.0p25.f030.grib2\n",
      "Downloaded: gefs.wave.t12z.prob.global.0p25.f036.grib2\n",
      "Downloaded: gefs.wave.t12z.prob.global.0p25.f042.grib2\n",
      "Downloaded: gefs.wave.t12z.prob.global.0p25.f048.grib2\n"
     ]
    },
    {
     "ename": "KeyboardInterrupt",
     "evalue": "",
     "output_type": "error",
     "traceback": [
      "\u001b[0;31m---------------------------------------------------------------------------\u001b[0m",
      "\u001b[0;31mKeyboardInterrupt\u001b[0m                         Traceback (most recent call last)",
      "Cell \u001b[0;32mIn[33], line 2\u001b[0m\n\u001b[1;32m      1\u001b[0m \u001b[38;5;28;01mfor\u001b[39;00m target \u001b[38;5;129;01min\u001b[39;00m target_urls:\n\u001b[0;32m----> 2\u001b[0m     response \u001b[38;5;241m=\u001b[39m \u001b[43mrequests\u001b[49m\u001b[38;5;241;43m.\u001b[39;49m\u001b[43mget\u001b[49m\u001b[43m(\u001b[49m\u001b[43mtarget\u001b[49m\u001b[43m)\u001b[49m\n\u001b[1;32m      3\u001b[0m     \u001b[38;5;28;01mif\u001b[39;00m response\u001b[38;5;241m.\u001b[39mstatus_code \u001b[38;5;241m==\u001b[39m \u001b[38;5;241m200\u001b[39m:\n\u001b[1;32m      4\u001b[0m         file_name \u001b[38;5;241m=\u001b[39m target\u001b[38;5;241m.\u001b[39msplit(\u001b[38;5;124m\"\u001b[39m\u001b[38;5;124m/\u001b[39m\u001b[38;5;124m\"\u001b[39m)[\u001b[38;5;241m-\u001b[39m\u001b[38;5;241m1\u001b[39m]\n",
      "File \u001b[0;32m~/meteostream/.venv/lib64/python3.11/site-packages/requests/api.py:73\u001b[0m, in \u001b[0;36mget\u001b[0;34m(url, params, **kwargs)\u001b[0m\n\u001b[1;32m     62\u001b[0m \u001b[38;5;28;01mdef\u001b[39;00m\u001b[38;5;250m \u001b[39m\u001b[38;5;21mget\u001b[39m(url, params\u001b[38;5;241m=\u001b[39m\u001b[38;5;28;01mNone\u001b[39;00m, \u001b[38;5;241m*\u001b[39m\u001b[38;5;241m*\u001b[39mkwargs):\n\u001b[1;32m     63\u001b[0m \u001b[38;5;250m    \u001b[39m\u001b[38;5;124mr\u001b[39m\u001b[38;5;124;03m\"\"\"Sends a GET request.\u001b[39;00m\n\u001b[1;32m     64\u001b[0m \n\u001b[1;32m     65\u001b[0m \u001b[38;5;124;03m    :param url: URL for the new :class:`Request` object.\u001b[39;00m\n\u001b[0;32m   (...)\u001b[0m\n\u001b[1;32m     70\u001b[0m \u001b[38;5;124;03m    :rtype: requests.Response\u001b[39;00m\n\u001b[1;32m     71\u001b[0m \u001b[38;5;124;03m    \"\"\"\u001b[39;00m\n\u001b[0;32m---> 73\u001b[0m     \u001b[38;5;28;01mreturn\u001b[39;00m \u001b[43mrequest\u001b[49m\u001b[43m(\u001b[49m\u001b[38;5;124;43m\"\u001b[39;49m\u001b[38;5;124;43mget\u001b[39;49m\u001b[38;5;124;43m\"\u001b[39;49m\u001b[43m,\u001b[49m\u001b[43m \u001b[49m\u001b[43murl\u001b[49m\u001b[43m,\u001b[49m\u001b[43m \u001b[49m\u001b[43mparams\u001b[49m\u001b[38;5;241;43m=\u001b[39;49m\u001b[43mparams\u001b[49m\u001b[43m,\u001b[49m\u001b[43m \u001b[49m\u001b[38;5;241;43m*\u001b[39;49m\u001b[38;5;241;43m*\u001b[39;49m\u001b[43mkwargs\u001b[49m\u001b[43m)\u001b[49m\n",
      "File \u001b[0;32m~/meteostream/.venv/lib64/python3.11/site-packages/requests/api.py:59\u001b[0m, in \u001b[0;36mrequest\u001b[0;34m(method, url, **kwargs)\u001b[0m\n\u001b[1;32m     55\u001b[0m \u001b[38;5;66;03m# By using the 'with' statement we are sure the session is closed, thus we\u001b[39;00m\n\u001b[1;32m     56\u001b[0m \u001b[38;5;66;03m# avoid leaving sockets open which can trigger a ResourceWarning in some\u001b[39;00m\n\u001b[1;32m     57\u001b[0m \u001b[38;5;66;03m# cases, and look like a memory leak in others.\u001b[39;00m\n\u001b[1;32m     58\u001b[0m \u001b[38;5;28;01mwith\u001b[39;00m sessions\u001b[38;5;241m.\u001b[39mSession() \u001b[38;5;28;01mas\u001b[39;00m session:\n\u001b[0;32m---> 59\u001b[0m     \u001b[38;5;28;01mreturn\u001b[39;00m \u001b[43msession\u001b[49m\u001b[38;5;241;43m.\u001b[39;49m\u001b[43mrequest\u001b[49m\u001b[43m(\u001b[49m\u001b[43mmethod\u001b[49m\u001b[38;5;241;43m=\u001b[39;49m\u001b[43mmethod\u001b[49m\u001b[43m,\u001b[49m\u001b[43m \u001b[49m\u001b[43murl\u001b[49m\u001b[38;5;241;43m=\u001b[39;49m\u001b[43murl\u001b[49m\u001b[43m,\u001b[49m\u001b[43m \u001b[49m\u001b[38;5;241;43m*\u001b[39;49m\u001b[38;5;241;43m*\u001b[39;49m\u001b[43mkwargs\u001b[49m\u001b[43m)\u001b[49m\n",
      "File \u001b[0;32m~/meteostream/.venv/lib64/python3.11/site-packages/requests/sessions.py:589\u001b[0m, in \u001b[0;36mSession.request\u001b[0;34m(self, method, url, params, data, headers, cookies, files, auth, timeout, allow_redirects, proxies, hooks, stream, verify, cert, json)\u001b[0m\n\u001b[1;32m    584\u001b[0m send_kwargs \u001b[38;5;241m=\u001b[39m {\n\u001b[1;32m    585\u001b[0m     \u001b[38;5;124m\"\u001b[39m\u001b[38;5;124mtimeout\u001b[39m\u001b[38;5;124m\"\u001b[39m: timeout,\n\u001b[1;32m    586\u001b[0m     \u001b[38;5;124m\"\u001b[39m\u001b[38;5;124mallow_redirects\u001b[39m\u001b[38;5;124m\"\u001b[39m: allow_redirects,\n\u001b[1;32m    587\u001b[0m }\n\u001b[1;32m    588\u001b[0m send_kwargs\u001b[38;5;241m.\u001b[39mupdate(settings)\n\u001b[0;32m--> 589\u001b[0m resp \u001b[38;5;241m=\u001b[39m \u001b[38;5;28;43mself\u001b[39;49m\u001b[38;5;241;43m.\u001b[39;49m\u001b[43msend\u001b[49m\u001b[43m(\u001b[49m\u001b[43mprep\u001b[49m\u001b[43m,\u001b[49m\u001b[43m \u001b[49m\u001b[38;5;241;43m*\u001b[39;49m\u001b[38;5;241;43m*\u001b[39;49m\u001b[43msend_kwargs\u001b[49m\u001b[43m)\u001b[49m\n\u001b[1;32m    591\u001b[0m \u001b[38;5;28;01mreturn\u001b[39;00m resp\n",
      "File \u001b[0;32m~/meteostream/.venv/lib64/python3.11/site-packages/requests/sessions.py:746\u001b[0m, in \u001b[0;36mSession.send\u001b[0;34m(self, request, **kwargs)\u001b[0m\n\u001b[1;32m    743\u001b[0m         \u001b[38;5;28;01mpass\u001b[39;00m\n\u001b[1;32m    745\u001b[0m \u001b[38;5;28;01mif\u001b[39;00m \u001b[38;5;129;01mnot\u001b[39;00m stream:\n\u001b[0;32m--> 746\u001b[0m     \u001b[43mr\u001b[49m\u001b[38;5;241;43m.\u001b[39;49m\u001b[43mcontent\u001b[49m\n\u001b[1;32m    748\u001b[0m \u001b[38;5;28;01mreturn\u001b[39;00m r\n",
      "File \u001b[0;32m~/meteostream/.venv/lib64/python3.11/site-packages/requests/models.py:902\u001b[0m, in \u001b[0;36mResponse.content\u001b[0;34m(self)\u001b[0m\n\u001b[1;32m    900\u001b[0m         \u001b[38;5;28mself\u001b[39m\u001b[38;5;241m.\u001b[39m_content \u001b[38;5;241m=\u001b[39m \u001b[38;5;28;01mNone\u001b[39;00m\n\u001b[1;32m    901\u001b[0m     \u001b[38;5;28;01melse\u001b[39;00m:\n\u001b[0;32m--> 902\u001b[0m         \u001b[38;5;28mself\u001b[39m\u001b[38;5;241m.\u001b[39m_content \u001b[38;5;241m=\u001b[39m \u001b[38;5;124mb\u001b[39m\u001b[38;5;124m\"\u001b[39m\u001b[38;5;124m\"\u001b[39m\u001b[38;5;241m.\u001b[39mjoin(\u001b[38;5;28mself\u001b[39m\u001b[38;5;241m.\u001b[39miter_content(CONTENT_CHUNK_SIZE)) \u001b[38;5;129;01mor\u001b[39;00m \u001b[38;5;124mb\u001b[39m\u001b[38;5;124m\"\u001b[39m\u001b[38;5;124m\"\u001b[39m\n\u001b[1;32m    904\u001b[0m \u001b[38;5;28mself\u001b[39m\u001b[38;5;241m.\u001b[39m_content_consumed \u001b[38;5;241m=\u001b[39m \u001b[38;5;28;01mTrue\u001b[39;00m\n\u001b[1;32m    905\u001b[0m \u001b[38;5;66;03m# don't need to release the connection; that's been handled by urllib3\u001b[39;00m\n\u001b[1;32m    906\u001b[0m \u001b[38;5;66;03m# since we exhausted the data.\u001b[39;00m\n",
      "File \u001b[0;32m~/meteostream/.venv/lib64/python3.11/site-packages/requests/models.py:820\u001b[0m, in \u001b[0;36mResponse.iter_content.<locals>.generate\u001b[0;34m()\u001b[0m\n\u001b[1;32m    818\u001b[0m \u001b[38;5;28;01mif\u001b[39;00m \u001b[38;5;28mhasattr\u001b[39m(\u001b[38;5;28mself\u001b[39m\u001b[38;5;241m.\u001b[39mraw, \u001b[38;5;124m\"\u001b[39m\u001b[38;5;124mstream\u001b[39m\u001b[38;5;124m\"\u001b[39m):\n\u001b[1;32m    819\u001b[0m     \u001b[38;5;28;01mtry\u001b[39;00m:\n\u001b[0;32m--> 820\u001b[0m         \u001b[38;5;28;01myield from\u001b[39;00m \u001b[38;5;28mself\u001b[39m\u001b[38;5;241m.\u001b[39mraw\u001b[38;5;241m.\u001b[39mstream(chunk_size, decode_content\u001b[38;5;241m=\u001b[39m\u001b[38;5;28;01mTrue\u001b[39;00m)\n\u001b[1;32m    821\u001b[0m     \u001b[38;5;28;01mexcept\u001b[39;00m ProtocolError \u001b[38;5;28;01mas\u001b[39;00m e:\n\u001b[1;32m    822\u001b[0m         \u001b[38;5;28;01mraise\u001b[39;00m ChunkedEncodingError(e)\n",
      "File \u001b[0;32m~/meteostream/.venv/lib64/python3.11/site-packages/urllib3/response.py:1066\u001b[0m, in \u001b[0;36mHTTPResponse.stream\u001b[0;34m(self, amt, decode_content)\u001b[0m\n\u001b[1;32m   1064\u001b[0m \u001b[38;5;28;01melse\u001b[39;00m:\n\u001b[1;32m   1065\u001b[0m     \u001b[38;5;28;01mwhile\u001b[39;00m \u001b[38;5;129;01mnot\u001b[39;00m is_fp_closed(\u001b[38;5;28mself\u001b[39m\u001b[38;5;241m.\u001b[39m_fp) \u001b[38;5;129;01mor\u001b[39;00m \u001b[38;5;28mlen\u001b[39m(\u001b[38;5;28mself\u001b[39m\u001b[38;5;241m.\u001b[39m_decoded_buffer) \u001b[38;5;241m>\u001b[39m \u001b[38;5;241m0\u001b[39m:\n\u001b[0;32m-> 1066\u001b[0m         data \u001b[38;5;241m=\u001b[39m \u001b[38;5;28;43mself\u001b[39;49m\u001b[38;5;241;43m.\u001b[39;49m\u001b[43mread\u001b[49m\u001b[43m(\u001b[49m\u001b[43mamt\u001b[49m\u001b[38;5;241;43m=\u001b[39;49m\u001b[43mamt\u001b[49m\u001b[43m,\u001b[49m\u001b[43m \u001b[49m\u001b[43mdecode_content\u001b[49m\u001b[38;5;241;43m=\u001b[39;49m\u001b[43mdecode_content\u001b[49m\u001b[43m)\u001b[49m\n\u001b[1;32m   1068\u001b[0m         \u001b[38;5;28;01mif\u001b[39;00m data:\n\u001b[1;32m   1069\u001b[0m             \u001b[38;5;28;01myield\u001b[39;00m data\n",
      "File \u001b[0;32m~/meteostream/.venv/lib64/python3.11/site-packages/urllib3/response.py:955\u001b[0m, in \u001b[0;36mHTTPResponse.read\u001b[0;34m(self, amt, decode_content, cache_content)\u001b[0m\n\u001b[1;32m    952\u001b[0m     \u001b[38;5;28;01mif\u001b[39;00m \u001b[38;5;28mlen\u001b[39m(\u001b[38;5;28mself\u001b[39m\u001b[38;5;241m.\u001b[39m_decoded_buffer) \u001b[38;5;241m>\u001b[39m\u001b[38;5;241m=\u001b[39m amt:\n\u001b[1;32m    953\u001b[0m         \u001b[38;5;28;01mreturn\u001b[39;00m \u001b[38;5;28mself\u001b[39m\u001b[38;5;241m.\u001b[39m_decoded_buffer\u001b[38;5;241m.\u001b[39mget(amt)\n\u001b[0;32m--> 955\u001b[0m data \u001b[38;5;241m=\u001b[39m \u001b[38;5;28;43mself\u001b[39;49m\u001b[38;5;241;43m.\u001b[39;49m\u001b[43m_raw_read\u001b[49m\u001b[43m(\u001b[49m\u001b[43mamt\u001b[49m\u001b[43m)\u001b[49m\n\u001b[1;32m    957\u001b[0m flush_decoder \u001b[38;5;241m=\u001b[39m amt \u001b[38;5;129;01mis\u001b[39;00m \u001b[38;5;28;01mNone\u001b[39;00m \u001b[38;5;129;01mor\u001b[39;00m (amt \u001b[38;5;241m!=\u001b[39m \u001b[38;5;241m0\u001b[39m \u001b[38;5;129;01mand\u001b[39;00m \u001b[38;5;129;01mnot\u001b[39;00m data)\n\u001b[1;32m    959\u001b[0m \u001b[38;5;28;01mif\u001b[39;00m \u001b[38;5;129;01mnot\u001b[39;00m data \u001b[38;5;129;01mand\u001b[39;00m \u001b[38;5;28mlen\u001b[39m(\u001b[38;5;28mself\u001b[39m\u001b[38;5;241m.\u001b[39m_decoded_buffer) \u001b[38;5;241m==\u001b[39m \u001b[38;5;241m0\u001b[39m:\n",
      "File \u001b[0;32m~/meteostream/.venv/lib64/python3.11/site-packages/urllib3/response.py:879\u001b[0m, in \u001b[0;36mHTTPResponse._raw_read\u001b[0;34m(self, amt, read1)\u001b[0m\n\u001b[1;32m    876\u001b[0m fp_closed \u001b[38;5;241m=\u001b[39m \u001b[38;5;28mgetattr\u001b[39m(\u001b[38;5;28mself\u001b[39m\u001b[38;5;241m.\u001b[39m_fp, \u001b[38;5;124m\"\u001b[39m\u001b[38;5;124mclosed\u001b[39m\u001b[38;5;124m\"\u001b[39m, \u001b[38;5;28;01mFalse\u001b[39;00m)\n\u001b[1;32m    878\u001b[0m \u001b[38;5;28;01mwith\u001b[39;00m \u001b[38;5;28mself\u001b[39m\u001b[38;5;241m.\u001b[39m_error_catcher():\n\u001b[0;32m--> 879\u001b[0m     data \u001b[38;5;241m=\u001b[39m \u001b[38;5;28;43mself\u001b[39;49m\u001b[38;5;241;43m.\u001b[39;49m\u001b[43m_fp_read\u001b[49m\u001b[43m(\u001b[49m\u001b[43mamt\u001b[49m\u001b[43m,\u001b[49m\u001b[43m \u001b[49m\u001b[43mread1\u001b[49m\u001b[38;5;241;43m=\u001b[39;49m\u001b[43mread1\u001b[49m\u001b[43m)\u001b[49m \u001b[38;5;28;01mif\u001b[39;00m \u001b[38;5;129;01mnot\u001b[39;00m fp_closed \u001b[38;5;28;01melse\u001b[39;00m \u001b[38;5;124mb\u001b[39m\u001b[38;5;124m\"\u001b[39m\u001b[38;5;124m\"\u001b[39m\n\u001b[1;32m    880\u001b[0m     \u001b[38;5;28;01mif\u001b[39;00m amt \u001b[38;5;129;01mis\u001b[39;00m \u001b[38;5;129;01mnot\u001b[39;00m \u001b[38;5;28;01mNone\u001b[39;00m \u001b[38;5;129;01mand\u001b[39;00m amt \u001b[38;5;241m!=\u001b[39m \u001b[38;5;241m0\u001b[39m \u001b[38;5;129;01mand\u001b[39;00m \u001b[38;5;129;01mnot\u001b[39;00m data:\n\u001b[1;32m    881\u001b[0m         \u001b[38;5;66;03m# Platform-specific: Buggy versions of Python.\u001b[39;00m\n\u001b[1;32m    882\u001b[0m         \u001b[38;5;66;03m# Close the connection when no data is returned\u001b[39;00m\n\u001b[0;32m   (...)\u001b[0m\n\u001b[1;32m    887\u001b[0m         \u001b[38;5;66;03m# not properly close the connection in all cases. There is\u001b[39;00m\n\u001b[1;32m    888\u001b[0m         \u001b[38;5;66;03m# no harm in redundantly calling close.\u001b[39;00m\n\u001b[1;32m    889\u001b[0m         \u001b[38;5;28mself\u001b[39m\u001b[38;5;241m.\u001b[39m_fp\u001b[38;5;241m.\u001b[39mclose()\n",
      "File \u001b[0;32m~/meteostream/.venv/lib64/python3.11/site-packages/urllib3/response.py:862\u001b[0m, in \u001b[0;36mHTTPResponse._fp_read\u001b[0;34m(self, amt, read1)\u001b[0m\n\u001b[1;32m    859\u001b[0m     \u001b[38;5;28;01mreturn\u001b[39;00m \u001b[38;5;28mself\u001b[39m\u001b[38;5;241m.\u001b[39m_fp\u001b[38;5;241m.\u001b[39mread1(amt) \u001b[38;5;28;01mif\u001b[39;00m amt \u001b[38;5;129;01mis\u001b[39;00m \u001b[38;5;129;01mnot\u001b[39;00m \u001b[38;5;28;01mNone\u001b[39;00m \u001b[38;5;28;01melse\u001b[39;00m \u001b[38;5;28mself\u001b[39m\u001b[38;5;241m.\u001b[39m_fp\u001b[38;5;241m.\u001b[39mread1()\n\u001b[1;32m    860\u001b[0m \u001b[38;5;28;01melse\u001b[39;00m:\n\u001b[1;32m    861\u001b[0m     \u001b[38;5;66;03m# StringIO doesn't like amt=None\u001b[39;00m\n\u001b[0;32m--> 862\u001b[0m     \u001b[38;5;28;01mreturn\u001b[39;00m \u001b[38;5;28;43mself\u001b[39;49m\u001b[38;5;241;43m.\u001b[39;49m\u001b[43m_fp\u001b[49m\u001b[38;5;241;43m.\u001b[39;49m\u001b[43mread\u001b[49m\u001b[43m(\u001b[49m\u001b[43mamt\u001b[49m\u001b[43m)\u001b[49m \u001b[38;5;28;01mif\u001b[39;00m amt \u001b[38;5;129;01mis\u001b[39;00m \u001b[38;5;129;01mnot\u001b[39;00m \u001b[38;5;28;01mNone\u001b[39;00m \u001b[38;5;28;01melse\u001b[39;00m \u001b[38;5;28mself\u001b[39m\u001b[38;5;241m.\u001b[39m_fp\u001b[38;5;241m.\u001b[39mread()\n",
      "File \u001b[0;32m/usr/lib64/python3.11/http/client.py:473\u001b[0m, in \u001b[0;36mHTTPResponse.read\u001b[0;34m(self, amt)\u001b[0m\n\u001b[1;32m    470\u001b[0m \u001b[38;5;28;01mif\u001b[39;00m \u001b[38;5;28mself\u001b[39m\u001b[38;5;241m.\u001b[39mlength \u001b[38;5;129;01mis\u001b[39;00m \u001b[38;5;129;01mnot\u001b[39;00m \u001b[38;5;28;01mNone\u001b[39;00m \u001b[38;5;129;01mand\u001b[39;00m amt \u001b[38;5;241m>\u001b[39m \u001b[38;5;28mself\u001b[39m\u001b[38;5;241m.\u001b[39mlength:\n\u001b[1;32m    471\u001b[0m     \u001b[38;5;66;03m# clip the read to the \"end of response\"\u001b[39;00m\n\u001b[1;32m    472\u001b[0m     amt \u001b[38;5;241m=\u001b[39m \u001b[38;5;28mself\u001b[39m\u001b[38;5;241m.\u001b[39mlength\n\u001b[0;32m--> 473\u001b[0m s \u001b[38;5;241m=\u001b[39m \u001b[38;5;28mself\u001b[39m\u001b[38;5;241m.\u001b[39mfp\u001b[38;5;241m.\u001b[39mread(amt)\n\u001b[1;32m    474\u001b[0m \u001b[38;5;28;01mif\u001b[39;00m \u001b[38;5;129;01mnot\u001b[39;00m s \u001b[38;5;129;01mand\u001b[39;00m amt:\n\u001b[1;32m    475\u001b[0m     \u001b[38;5;66;03m# Ideally, we would raise IncompleteRead if the content-length\u001b[39;00m\n\u001b[1;32m    476\u001b[0m     \u001b[38;5;66;03m# wasn't satisfied, but it might break compatibility.\u001b[39;00m\n\u001b[1;32m    477\u001b[0m     \u001b[38;5;28mself\u001b[39m\u001b[38;5;241m.\u001b[39m_close_conn()\n",
      "File \u001b[0;32m/usr/lib64/python3.11/socket.py:706\u001b[0m, in \u001b[0;36mSocketIO.readinto\u001b[0;34m(self, b)\u001b[0m\n\u001b[1;32m    704\u001b[0m \u001b[38;5;28;01mwhile\u001b[39;00m \u001b[38;5;28;01mTrue\u001b[39;00m:\n\u001b[1;32m    705\u001b[0m     \u001b[38;5;28;01mtry\u001b[39;00m:\n\u001b[0;32m--> 706\u001b[0m         \u001b[38;5;28;01mreturn\u001b[39;00m \u001b[38;5;28;43mself\u001b[39;49m\u001b[38;5;241;43m.\u001b[39;49m\u001b[43m_sock\u001b[49m\u001b[38;5;241;43m.\u001b[39;49m\u001b[43mrecv_into\u001b[49m\u001b[43m(\u001b[49m\u001b[43mb\u001b[49m\u001b[43m)\u001b[49m\n\u001b[1;32m    707\u001b[0m     \u001b[38;5;28;01mexcept\u001b[39;00m timeout:\n\u001b[1;32m    708\u001b[0m         \u001b[38;5;28mself\u001b[39m\u001b[38;5;241m.\u001b[39m_timeout_occurred \u001b[38;5;241m=\u001b[39m \u001b[38;5;28;01mTrue\u001b[39;00m\n",
      "File \u001b[0;32m/usr/lib64/python3.11/ssl.py:1315\u001b[0m, in \u001b[0;36mSSLSocket.recv_into\u001b[0;34m(self, buffer, nbytes, flags)\u001b[0m\n\u001b[1;32m   1311\u001b[0m     \u001b[38;5;28;01mif\u001b[39;00m flags \u001b[38;5;241m!=\u001b[39m \u001b[38;5;241m0\u001b[39m:\n\u001b[1;32m   1312\u001b[0m         \u001b[38;5;28;01mraise\u001b[39;00m \u001b[38;5;167;01mValueError\u001b[39;00m(\n\u001b[1;32m   1313\u001b[0m           \u001b[38;5;124m\"\u001b[39m\u001b[38;5;124mnon-zero flags not allowed in calls to recv_into() on \u001b[39m\u001b[38;5;132;01m%s\u001b[39;00m\u001b[38;5;124m\"\u001b[39m \u001b[38;5;241m%\u001b[39m\n\u001b[1;32m   1314\u001b[0m           \u001b[38;5;28mself\u001b[39m\u001b[38;5;241m.\u001b[39m\u001b[38;5;18m__class__\u001b[39m)\n\u001b[0;32m-> 1315\u001b[0m     \u001b[38;5;28;01mreturn\u001b[39;00m \u001b[38;5;28;43mself\u001b[39;49m\u001b[38;5;241;43m.\u001b[39;49m\u001b[43mread\u001b[49m\u001b[43m(\u001b[49m\u001b[43mnbytes\u001b[49m\u001b[43m,\u001b[49m\u001b[43m \u001b[49m\u001b[43mbuffer\u001b[49m\u001b[43m)\u001b[49m\n\u001b[1;32m   1316\u001b[0m \u001b[38;5;28;01melse\u001b[39;00m:\n\u001b[1;32m   1317\u001b[0m     \u001b[38;5;28;01mreturn\u001b[39;00m \u001b[38;5;28msuper\u001b[39m()\u001b[38;5;241m.\u001b[39mrecv_into(buffer, nbytes, flags)\n",
      "File \u001b[0;32m/usr/lib64/python3.11/ssl.py:1167\u001b[0m, in \u001b[0;36mSSLSocket.read\u001b[0;34m(self, len, buffer)\u001b[0m\n\u001b[1;32m   1165\u001b[0m \u001b[38;5;28;01mtry\u001b[39;00m:\n\u001b[1;32m   1166\u001b[0m     \u001b[38;5;28;01mif\u001b[39;00m buffer \u001b[38;5;129;01mis\u001b[39;00m \u001b[38;5;129;01mnot\u001b[39;00m \u001b[38;5;28;01mNone\u001b[39;00m:\n\u001b[0;32m-> 1167\u001b[0m         \u001b[38;5;28;01mreturn\u001b[39;00m \u001b[38;5;28;43mself\u001b[39;49m\u001b[38;5;241;43m.\u001b[39;49m\u001b[43m_sslobj\u001b[49m\u001b[38;5;241;43m.\u001b[39;49m\u001b[43mread\u001b[49m\u001b[43m(\u001b[49m\u001b[38;5;28;43mlen\u001b[39;49m\u001b[43m,\u001b[49m\u001b[43m \u001b[49m\u001b[43mbuffer\u001b[49m\u001b[43m)\u001b[49m\n\u001b[1;32m   1168\u001b[0m     \u001b[38;5;28;01melse\u001b[39;00m:\n\u001b[1;32m   1169\u001b[0m         \u001b[38;5;28;01mreturn\u001b[39;00m \u001b[38;5;28mself\u001b[39m\u001b[38;5;241m.\u001b[39m_sslobj\u001b[38;5;241m.\u001b[39mread(\u001b[38;5;28mlen\u001b[39m)\n",
      "\u001b[0;31mKeyboardInterrupt\u001b[0m: "
     ]
    }
   ],
   "source": [
    "for target in target_urls:\n",
    "    response = requests.get(target)\n",
    "    if response.status_code == 200:\n",
    "        file_name = target.split(\"/\")[-1]\n",
    "        with open(file_name, \"wb\") as file:\n",
    "            file.write(response.content)\n",
    "        print(f\"Downloaded: {file_name}\")"
   ]
  },
  {
   "cell_type": "code",
   "execution_count": 34,
   "metadata": {},
   "outputs": [],
   "source": [
    "test_grib = \"/home/tylerradebaugh/data/grib/gefs.wave.t12z.prob.global.0p25.f000.grib2\""
   ]
  },
  {
   "cell_type": "code",
   "execution_count": 45,
   "metadata": {},
   "outputs": [
    {
     "name": "stdout",
     "output_type": "stream",
     "text": [
      "Total messages: 72\n",
      "1:Significant height of combined wind waves and swell:m (instant):regular_ll:surface:level 0:fcst time 0 hrs:from 202502021200:Probability of event above upper limit (> 0.6)\n",
      "2:Significant height of combined wind waves and swell:m (instant):regular_ll:surface:level 0:fcst time 0 hrs:from 202502021200:Probability of event above upper limit (> 1.0)\n",
      "3:Significant height of combined wind waves and swell:m (instant):regular_ll:surface:level 0:fcst time 0 hrs:from 202502021200:Probability of event above upper limit (> 2.0)\n",
      "4:Significant height of combined wind waves and swell:m (instant):regular_ll:surface:level 0:fcst time 0 hrs:from 202502021200:Probability of event above upper limit (> 3.0)\n",
      "5:Significant height of combined wind waves and swell:m (instant):regular_ll:surface:level 0:fcst time 0 hrs:from 202502021200:Probability of event above upper limit (> 4.0)\n",
      "6:Significant height of combined wind waves and swell:m (instant):regular_ll:surface:level 0:fcst time 0 hrs:from 202502021200:Probability of event above upper limit (> 5.5)\n",
      "7:Significant height of combined wind waves and swell:m (instant):regular_ll:surface:level 0:fcst time 0 hrs:from 202502021200:Probability of event above upper limit (> 7.0)\n",
      "8:Significant height of combined wind waves and swell:m (instant):regular_ll:surface:level 0:fcst time 0 hrs:from 202502021200:Probability of event above upper limit (> 9.0)\n",
      "9:Primary wave mean period:s (instant):regular_ll:surface:level 0:fcst time 0 hrs:from 202502021200:Probability of event above upper limit (> 5.0)\n",
      "10:Primary wave mean period:s (instant):regular_ll:surface:level 0:fcst time 0 hrs:from 202502021200:Probability of event above upper limit (> 7.0)\n",
      "11:Primary wave mean period:s (instant):regular_ll:surface:level 0:fcst time 0 hrs:from 202502021200:Probability of event above upper limit (> 9.0)\n",
      "12:Primary wave mean period:s (instant):regular_ll:surface:level 0:fcst time 0 hrs:from 202502021200:Probability of event above upper limit (> 11.0)\n",
      "13:Primary wave mean period:s (instant):regular_ll:surface:level 0:fcst time 0 hrs:from 202502021200:Probability of event above upper limit (> 13.0)\n",
      "14:Primary wave mean period:s (instant):regular_ll:surface:level 0:fcst time 0 hrs:from 202502021200:Probability of event above upper limit (> 15.0)\n",
      "15:Primary wave mean period:s (instant):regular_ll:surface:level 0:fcst time 0 hrs:from 202502021200:Probability of event above upper limit (> 17.0)\n",
      "16:Primary wave mean period:s (instant):regular_ll:surface:level 0:fcst time 0 hrs:from 202502021200:Probability of event above upper limit (> 19.0)\n",
      "17:Significant height of wind waves:m (instant):regular_ll:surface:level 0:fcst time 0 hrs:from 202502021200:Probability of event above upper limit (> 0.6)\n",
      "18:Significant height of wind waves:m (instant):regular_ll:surface:level 0:fcst time 0 hrs:from 202502021200:Probability of event above upper limit (> 1.0)\n",
      "19:Significant height of wind waves:m (instant):regular_ll:surface:level 0:fcst time 0 hrs:from 202502021200:Probability of event above upper limit (> 2.0)\n",
      "20:Significant height of wind waves:m (instant):regular_ll:surface:level 0:fcst time 0 hrs:from 202502021200:Probability of event above upper limit (> 3.0)\n",
      "21:Significant height of wind waves:m (instant):regular_ll:surface:level 0:fcst time 0 hrs:from 202502021200:Probability of event above upper limit (> 4.0)\n",
      "22:Significant height of wind waves:m (instant):regular_ll:surface:level 0:fcst time 0 hrs:from 202502021200:Probability of event above upper limit (> 5.5)\n",
      "23:Significant height of wind waves:m (instant):regular_ll:surface:level 0:fcst time 0 hrs:from 202502021200:Probability of event above upper limit (> 7.0)\n",
      "24:Significant height of wind waves:m (instant):regular_ll:surface:level 0:fcst time 0 hrs:from 202502021200:Probability of event above upper limit (> 9.0)\n",
      "25:Mean period of wind waves:s (instant):regular_ll:surface:level 0:fcst time 0 hrs:from 202502021200:Probability of event above upper limit (> 5.0)\n",
      "26:Mean period of wind waves:s (instant):regular_ll:surface:level 0:fcst time 0 hrs:from 202502021200:Probability of event above upper limit (> 7.0)\n",
      "27:Mean period of wind waves:s (instant):regular_ll:surface:level 0:fcst time 0 hrs:from 202502021200:Probability of event above upper limit (> 9.0)\n",
      "28:Mean period of wind waves:s (instant):regular_ll:surface:level 0:fcst time 0 hrs:from 202502021200:Probability of event above upper limit (> 11.0)\n",
      "29:Mean period of wind waves:s (instant):regular_ll:surface:level 0:fcst time 0 hrs:from 202502021200:Probability of event above upper limit (> 13.0)\n",
      "30:Mean period of wind waves:s (instant):regular_ll:surface:level 0:fcst time 0 hrs:from 202502021200:Probability of event above upper limit (> 15.0)\n",
      "31:Mean period of wind waves:s (instant):regular_ll:surface:level 0:fcst time 0 hrs:from 202502021200:Probability of event above upper limit (> 17.0)\n",
      "32:Mean period of wind waves:s (instant):regular_ll:surface:level 0:fcst time 0 hrs:from 202502021200:Probability of event above upper limit (> 19.0)\n",
      "33:Wind speed:m s**-1 (instant):regular_ll:surface:level 0:fcst time 0 hrs:from 202502021200:Probability of event above upper limit (> 3.6)\n",
      "34:Wind speed:m s**-1 (instant):regular_ll:surface:level 0:fcst time 0 hrs:from 202502021200:Probability of event above upper limit (> 5.65)\n",
      "35:Wind speed:m s**-1 (instant):regular_ll:surface:level 0:fcst time 0 hrs:from 202502021200:Probability of event above upper limit (> 8.74)\n",
      "36:Wind speed:m s**-1 (instant):regular_ll:surface:level 0:fcst time 0 hrs:from 202502021200:Probability of event above upper limit (> 11.31)\n",
      "37:Wind speed:m s**-1 (instant):regular_ll:surface:level 0:fcst time 0 hrs:from 202502021200:Probability of event above upper limit (> 14.39)\n",
      "38:Wind speed:m s**-1 (instant):regular_ll:surface:level 0:fcst time 0 hrs:from 202502021200:Probability of event above upper limit (> 17.48)\n",
      "39:Wind speed:m s**-1 (instant):regular_ll:surface:level 0:fcst time 0 hrs:from 202502021200:Probability of event above upper limit (> 21.07)\n",
      "40:Wind speed:m s**-1 (instant):regular_ll:surface:level 0:fcst time 0 hrs:from 202502021200:Probability of event above upper limit (> 24.67)\n",
      "41:Significant height of total swell:m (instant):regular_ll:surface:level 0:fcst time 0 hrs:from 202502021200:Probability of event above upper limit (> 0.6)\n",
      "42:Significant height of total swell:m (instant):regular_ll:surface:level 0:fcst time 0 hrs:from 202502021200:Probability of event above upper limit (> 1.0)\n",
      "43:Significant height of total swell:m (instant):regular_ll:surface:level 0:fcst time 0 hrs:from 202502021200:Probability of event above upper limit (> 2.0)\n",
      "44:Significant height of total swell:m (instant):regular_ll:surface:level 0:fcst time 0 hrs:from 202502021200:Probability of event above upper limit (> 3.0)\n",
      "45:Significant height of total swell:m (instant):regular_ll:surface:level 0:fcst time 0 hrs:from 202502021200:Probability of event above upper limit (> 4.0)\n",
      "46:Significant height of total swell:m (instant):regular_ll:surface:level 0:fcst time 0 hrs:from 202502021200:Probability of event above upper limit (> 5.5)\n",
      "47:Significant height of total swell:m (instant):regular_ll:surface:level 0:fcst time 0 hrs:from 202502021200:Probability of event above upper limit (> 7.0)\n",
      "48:Significant height of total swell:m (instant):regular_ll:surface:level 0:fcst time 0 hrs:from 202502021200:Probability of event above upper limit (> 9.0)\n",
      "49:Significant height of total swell:m (instant):regular_ll:surface:level 0:fcst time 0 hrs:from 202502021200:Probability of event above upper limit (> 0.6)\n",
      "50:Significant height of total swell:m (instant):regular_ll:surface:level 0:fcst time 0 hrs:from 202502021200:Probability of event above upper limit (> 1.0)\n",
      "51:Significant height of total swell:m (instant):regular_ll:surface:level 0:fcst time 0 hrs:from 202502021200:Probability of event above upper limit (> 2.0)\n",
      "52:Significant height of total swell:m (instant):regular_ll:surface:level 0:fcst time 0 hrs:from 202502021200:Probability of event above upper limit (> 3.0)\n",
      "53:Significant height of total swell:m (instant):regular_ll:surface:level 0:fcst time 0 hrs:from 202502021200:Probability of event above upper limit (> 4.0)\n",
      "54:Significant height of total swell:m (instant):regular_ll:surface:level 0:fcst time 0 hrs:from 202502021200:Probability of event above upper limit (> 5.5)\n",
      "55:Significant height of total swell:m (instant):regular_ll:surface:level 0:fcst time 0 hrs:from 202502021200:Probability of event above upper limit (> 7.0)\n",
      "56:Significant height of total swell:m (instant):regular_ll:surface:level 0:fcst time 0 hrs:from 202502021200:Probability of event above upper limit (> 9.0)\n",
      "57:Mean period of total swell:s (instant):regular_ll:surface:level 0:fcst time 0 hrs:from 202502021200:Probability of event above upper limit (> 5.0)\n",
      "58:Mean period of total swell:s (instant):regular_ll:surface:level 0:fcst time 0 hrs:from 202502021200:Probability of event above upper limit (> 7.0)\n",
      "59:Mean period of total swell:s (instant):regular_ll:surface:level 0:fcst time 0 hrs:from 202502021200:Probability of event above upper limit (> 9.0)\n",
      "60:Mean period of total swell:s (instant):regular_ll:surface:level 0:fcst time 0 hrs:from 202502021200:Probability of event above upper limit (> 11.0)\n",
      "61:Mean period of total swell:s (instant):regular_ll:surface:level 0:fcst time 0 hrs:from 202502021200:Probability of event above upper limit (> 13.0)\n",
      "62:Mean period of total swell:s (instant):regular_ll:surface:level 0:fcst time 0 hrs:from 202502021200:Probability of event above upper limit (> 15.0)\n",
      "63:Mean period of total swell:s (instant):regular_ll:surface:level 0:fcst time 0 hrs:from 202502021200:Probability of event above upper limit (> 17.0)\n",
      "64:Mean period of total swell:s (instant):regular_ll:surface:level 0:fcst time 0 hrs:from 202502021200:Probability of event above upper limit (> 19.0)\n",
      "65:Mean period of total swell:s (instant):regular_ll:surface:level 0:fcst time 0 hrs:from 202502021200:Probability of event above upper limit (> 5.0)\n",
      "66:Mean period of total swell:s (instant):regular_ll:surface:level 0:fcst time 0 hrs:from 202502021200:Probability of event above upper limit (> 7.0)\n",
      "67:Mean period of total swell:s (instant):regular_ll:surface:level 0:fcst time 0 hrs:from 202502021200:Probability of event above upper limit (> 9.0)\n",
      "68:Mean period of total swell:s (instant):regular_ll:surface:level 0:fcst time 0 hrs:from 202502021200:Probability of event above upper limit (> 11.0)\n",
      "69:Mean period of total swell:s (instant):regular_ll:surface:level 0:fcst time 0 hrs:from 202502021200:Probability of event above upper limit (> 13.0)\n",
      "70:Mean period of total swell:s (instant):regular_ll:surface:level 0:fcst time 0 hrs:from 202502021200:Probability of event above upper limit (> 15.0)\n",
      "71:Mean period of total swell:s (instant):regular_ll:surface:level 0:fcst time 0 hrs:from 202502021200:Probability of event above upper limit (> 17.0)\n",
      "72:Mean period of total swell:s (instant):regular_ll:surface:level 0:fcst time 0 hrs:from 202502021200:Probability of event above upper limit (> 19.0)\n"
     ]
    }
   ],
   "source": [
    "# Check the total number of messages\n",
    "message_count = sum(1 for _ in grbs)\n",
    "print(f\"Total messages: {message_count}\")\n",
    "\n",
    "# Reopen to iterate (pygrib.open cannot rewind, so we reopen)\n",
    "grbs = pygrib.open(test_grib)\n",
    "\n",
    "# If messages exist, print details\n",
    "if message_count > 0:\n",
    "    for grb in grbs:\n",
    "        print(grb)\n",
    "else:\n",
    "    print(\"No messages found in the GRIB file.\")"
   ]
  },
  {
   "cell_type": "code",
   "execution_count": 1,
   "metadata": {},
   "outputs": [],
   "source": [
    "from meteostream.gefs import gefs_metadata"
   ]
  },
  {
   "cell_type": "code",
   "execution_count": 2,
   "metadata": {},
   "outputs": [],
   "source": [
    "df = gefs_metadata()"
   ]
  },
  {
   "cell_type": "code",
   "execution_count": 3,
   "metadata": {},
   "outputs": [
    {
     "data": {
      "text/html": [
       "<div>\n",
       "<style scoped>\n",
       "    .dataframe tbody tr th:only-of-type {\n",
       "        vertical-align: middle;\n",
       "    }\n",
       "\n",
       "    .dataframe tbody tr th {\n",
       "        vertical-align: top;\n",
       "    }\n",
       "\n",
       "    .dataframe thead th {\n",
       "        text-align: right;\n",
       "    }\n",
       "</style>\n",
       "<table border=\"1\" class=\"dataframe\">\n",
       "  <thead>\n",
       "    <tr style=\"text-align: right;\">\n",
       "      <th></th>\n",
       "      <th>Parameter</th>\n",
       "      <th>Unit</th>\n",
       "      <th>Description</th>\n",
       "    </tr>\n",
       "    <tr>\n",
       "      <th>Index_ID</th>\n",
       "      <th></th>\n",
       "      <th></th>\n",
       "      <th></th>\n",
       "    </tr>\n",
       "  </thead>\n",
       "  <tbody>\n",
       "    <tr>\n",
       "      <th>1</th>\n",
       "      <td>Sig. ht. of combined wind waves and swell</td>\n",
       "      <td>meters</td>\n",
       "      <td>Prob. &gt; 0.6</td>\n",
       "    </tr>\n",
       "    <tr>\n",
       "      <th>2</th>\n",
       "      <td>Sig. ht. of combined wind waves and swell</td>\n",
       "      <td>meters</td>\n",
       "      <td>Prob. &gt; 1.0</td>\n",
       "    </tr>\n",
       "    <tr>\n",
       "      <th>3</th>\n",
       "      <td>Sig. ht. of combined wind waves and swell</td>\n",
       "      <td>meters</td>\n",
       "      <td>Prob. &gt; 2.0</td>\n",
       "    </tr>\n",
       "    <tr>\n",
       "      <th>4</th>\n",
       "      <td>Sig. ht. of combined wind waves and swell</td>\n",
       "      <td>meters</td>\n",
       "      <td>Prob. &gt; 3.0</td>\n",
       "    </tr>\n",
       "    <tr>\n",
       "      <th>5</th>\n",
       "      <td>Sig. ht. of combined wind waves and swell</td>\n",
       "      <td>meters</td>\n",
       "      <td>Prob. &gt; 4.0</td>\n",
       "    </tr>\n",
       "    <tr>\n",
       "      <th>...</th>\n",
       "      <td>...</td>\n",
       "      <td>...</td>\n",
       "      <td>...</td>\n",
       "    </tr>\n",
       "    <tr>\n",
       "      <th>68</th>\n",
       "      <td>Mean period of total swell</td>\n",
       "      <td>seconds</td>\n",
       "      <td>Prob. &gt; 11.0</td>\n",
       "    </tr>\n",
       "    <tr>\n",
       "      <th>69</th>\n",
       "      <td>Mean period of total swell</td>\n",
       "      <td>seconds</td>\n",
       "      <td>Prob. &gt; 13.0</td>\n",
       "    </tr>\n",
       "    <tr>\n",
       "      <th>70</th>\n",
       "      <td>Mean period of total swell</td>\n",
       "      <td>seconds</td>\n",
       "      <td>Prob. &gt; 15.0</td>\n",
       "    </tr>\n",
       "    <tr>\n",
       "      <th>71</th>\n",
       "      <td>Mean period of total swell</td>\n",
       "      <td>seconds</td>\n",
       "      <td>Prob. &gt; 17.0</td>\n",
       "    </tr>\n",
       "    <tr>\n",
       "      <th>72</th>\n",
       "      <td>Mean period of total swell</td>\n",
       "      <td>seconds</td>\n",
       "      <td>Prob. &gt; 19.0</td>\n",
       "    </tr>\n",
       "  </tbody>\n",
       "</table>\n",
       "<p>72 rows × 3 columns</p>\n",
       "</div>"
      ],
      "text/plain": [
       "                                          Parameter     Unit   Description\n",
       "Index_ID                                                                  \n",
       "1         Sig. ht. of combined wind waves and swell   meters   Prob. > 0.6\n",
       "2         Sig. ht. of combined wind waves and swell   meters   Prob. > 1.0\n",
       "3         Sig. ht. of combined wind waves and swell   meters   Prob. > 2.0\n",
       "4         Sig. ht. of combined wind waves and swell   meters   Prob. > 3.0\n",
       "5         Sig. ht. of combined wind waves and swell   meters   Prob. > 4.0\n",
       "...                                             ...      ...           ...\n",
       "68                       Mean period of total swell  seconds  Prob. > 11.0\n",
       "69                       Mean period of total swell  seconds  Prob. > 13.0\n",
       "70                       Mean period of total swell  seconds  Prob. > 15.0\n",
       "71                       Mean period of total swell  seconds  Prob. > 17.0\n",
       "72                       Mean period of total swell  seconds  Prob. > 19.0\n",
       "\n",
       "[72 rows x 3 columns]"
      ]
     },
     "execution_count": 3,
     "metadata": {},
     "output_type": "execute_result"
    }
   ],
   "source": [
    "df "
   ]
  },
  {
   "cell_type": "code",
   "execution_count": null,
   "metadata": {},
   "outputs": [],
   "source": []
  }
 ],
 "metadata": {
  "kernelspec": {
   "display_name": ".venv",
   "language": "python",
   "name": "python3"
  },
  "language_info": {
   "codemirror_mode": {
    "name": "ipython",
    "version": 3
   },
   "file_extension": ".py",
   "mimetype": "text/x-python",
   "name": "python",
   "nbconvert_exporter": "python",
   "pygments_lexer": "ipython3",
   "version": "3.11.7"
  }
 },
 "nbformat": 4,
 "nbformat_minor": 2
}
